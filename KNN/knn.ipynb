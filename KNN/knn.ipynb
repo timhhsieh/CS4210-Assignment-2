{
 "cells": [
  {
   "cell_type": "code",
   "execution_count": 1,
   "id": "bc4f10c8",
   "metadata": {},
   "outputs": [
    {
     "name": "stdout",
     "output_type": "stream",
     "text": [
      "LOO-CV Error Rate for 1NN: 0.4\n"
     ]
    }
   ],
   "source": [
    "#-------------------------------------------------------------------------\n",
    "# AUTHOR: Tim Hsieh\n",
    "# FILENAME: knn.py\n",
    "# SPECIFICATION: Finds the LOO-CV Error Rate for 1NN in binary_points.csv\n",
    "# FOR: CS 4210- Assignment #2\n",
    "# TIME SPENT: 2 hours\n",
    "#-----------------------------------------------------------*/\n",
    "\n",
    "#IMPORTANT NOTE: DO NOT USE ANY ADVANCED PYTHON LIBRARY TO COMPLETE THIS CODE SUCH AS numpy OR pandas. You have to work here only with standard vectors and arrays\n",
    "\n",
    "#importing some Python libraries\n",
    "from sklearn.neighbors import KNeighborsClassifier\n",
    "import csv\n",
    "\n",
    "db = []\n",
    "\n",
    "#reading the data in a csv file\n",
    "with open('binary_points.csv', 'r') as csvfile:\n",
    "  reader = csv.reader(csvfile)\n",
    "  for i, row in enumerate(reader):\n",
    "      if i > 0: #skipping the header\n",
    "         db.append (row)\n",
    "\n",
    "# Initialize variables to keep track of correct predictions and total predictions\n",
    "correct_predictions = 0\n",
    "total_predictions = 0\n",
    "\n",
    "#loop your data to allow each instance to be your test set\n",
    "for i, test_instance in enumerate(db):\n",
    "\n",
    "    #add the training features to the 2D array X removing the instance that will be used for testing in this iteration. For instance, X = [[1, 3], [2, 1,], ...]]. Convert each feature value to\n",
    "    # float to avoid warning messages\n",
    "    #--> add your Python code here\n",
    "    X = []\n",
    "    Y = []\n",
    "\n",
    "    #transform the original training classes to numbers and add to the vector Y removing the instance that will be used for testing in this iteration. For instance, Y = [1, 2, ,...]. Convert each\n",
    "    #  feature value to float to avoid warning messages\n",
    "    for j, row in enumerate(db):\n",
    "        if i != j:\n",
    "            X.append([float(row[0]), float(row[1])])\n",
    "            Y.append(1 if row[2] == '+' else 0)\n",
    "\n",
    "    #store the test sample of this iteration in the vector testSample\n",
    "    #--> add your Python code here\n",
    "    testSample = [float(test_instance[0]), float(test_instance[1])]\n",
    "\n",
    "\n",
    "    #fitting the knn to the data\n",
    "    clf = KNeighborsClassifier(n_neighbors=1, p=2)\n",
    "    clf = clf.fit(X, Y)\n",
    "\n",
    "    #use your test sample in this iteration to make the class prediction. For instance:\n",
    "    #class_predicted = clf.predict([[1, 2]])[0]\n",
    "    #--> add your Python code here\n",
    "    class_predicted = clf.predict([testSample])[0]\n",
    "\n",
    "    #compare the prediction with the true label of the test instance to start calculating the error rate.\n",
    "    #--> add your Python code here\n",
    "    if (class_predicted == 1 and test_instance[2] == '+') or (class_predicted == 0 and test_instance[2] == '-'):\n",
    "        correct_predictions += 1\n",
    "    total_predictions += 1\n",
    "\n",
    "#print the error rate\n",
    "#--> add your Python code here\n",
    "error_rate = (total_predictions - correct_predictions) / total_predictions\n",
    "print(f\"LOO-CV Error Rate for 1NN: {error_rate}\")"
   ]
  },
  {
   "cell_type": "code",
   "execution_count": null,
   "id": "465620a7",
   "metadata": {},
   "outputs": [],
   "source": []
  }
 ],
 "metadata": {
  "kernelspec": {
   "display_name": "Python 3 (ipykernel)",
   "language": "python",
   "name": "python3"
  },
  "language_info": {
   "codemirror_mode": {
    "name": "ipython",
    "version": 3
   },
   "file_extension": ".py",
   "mimetype": "text/x-python",
   "name": "python",
   "nbconvert_exporter": "python",
   "pygments_lexer": "ipython3",
   "version": "3.10.9"
  }
 },
 "nbformat": 4,
 "nbformat_minor": 5
}
